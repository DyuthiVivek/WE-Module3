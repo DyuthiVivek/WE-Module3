{
  "nbformat": 4,
  "nbformat_minor": 0,
  "metadata": {
    "colab": {
      "provenance": []
    },
    "kernelspec": {
      "name": "python3",
      "display_name": "Python 3"
    },
    "language_info": {
      "name": "python"
    }
  },
  "cells": [
    {
      "cell_type": "markdown",
      "source": [
        "Idli distribution problem"
      ],
      "metadata": {
        "id": "nojiGCvWHYCi"
      }
    },
    {
      "cell_type": "code",
      "execution_count": null,
      "metadata": {
        "id": "7TycOM2mDoUX"
      },
      "outputs": [],
      "source": [
        "from typing import List\n",
        "\n",
        "def distribute_idlis(idlis: List[int]) -> int:\n",
        "    def distribute_idlis_helper(oe_string: str) -> int:\n",
        "        # Base case: if there are less than 2 people in the queue, return 0\n",
        "        if len(oe_string) < 2:\n",
        "            return 0\n",
        "\n",
        "        # If the string starts with 'oo', recursively add 2 to the solution and call\n",
        "        if oe_string.startswith('oo'):\n",
        "            return 2 + distribute_idlis_helper(oe_string[2:])\n",
        "        # If the string starts with 'ee', just call the function\n",
        "        elif oe_string.startswith('ee'):\n",
        "            return distribute_idlis_helper(oe_string[2:])\n",
        "        # If the string starts with 'e', call string[1:]\n",
        "        elif oe_string.startswith('e'):\n",
        "            return distribute_idlis_helper(oe_string[1:])\n",
        "        # If there is an 'o' at the beginning, call 2 + distribute('o' + string[2:])\n",
        "        elif oe_string.startswith('o'):\n",
        "            return 2 + distribute_idlis_helper('o' + oe_string[2:])\n",
        "\n",
        "    # Check if the sum of idlis is odd, return -1 if so\n",
        "    if sum(idlis) % 2 != 0:\n",
        "        return -1\n",
        "\n",
        "    # Convert the idlis to the 'oe' string representation\n",
        "    oe_string = ''.join('e' if idli % 2 == 0 else 'o' for idli in idlis)\n",
        "\n",
        "    return distribute_idlis_helper(oe_string)\n"
      ]
    },
    {
      "cell_type": "code",
      "source": [
        "distribute_idlis([2])"
      ],
      "metadata": {
        "colab": {
          "base_uri": "https://localhost:8080/"
        },
        "id": "uHd-4t6kDs13",
        "outputId": "f4496158-4a3f-4873-9a5d-9ebc0d879b70"
      },
      "execution_count": null,
      "outputs": [
        {
          "output_type": "execute_result",
          "data": {
            "text/plain": [
              "0"
            ]
          },
          "metadata": {},
          "execution_count": 22
        }
      ]
    },
    {
      "cell_type": "code",
      "source": [
        "distribute_idlis([3, 4])"
      ],
      "metadata": {
        "colab": {
          "base_uri": "https://localhost:8080/"
        },
        "id": "m1Hif5ZPD8k-",
        "outputId": "892f4348-bd09-441f-ea01-583a6fbcf6c5"
      },
      "execution_count": null,
      "outputs": [
        {
          "output_type": "execute_result",
          "data": {
            "text/plain": [
              "-1"
            ]
          },
          "metadata": {},
          "execution_count": 23
        }
      ]
    },
    {
      "cell_type": "code",
      "source": [
        "distribute_idlis([3, 4, 5])"
      ],
      "metadata": {
        "colab": {
          "base_uri": "https://localhost:8080/"
        },
        "id": "85jnf0uoEWJS",
        "outputId": "024f6ead-62e8-4ea7-bf8d-29e03b7f5f2e"
      },
      "execution_count": null,
      "outputs": [
        {
          "output_type": "execute_result",
          "data": {
            "text/plain": [
              "4"
            ]
          },
          "metadata": {},
          "execution_count": 24
        }
      ]
    },
    {
      "cell_type": "code",
      "source": [],
      "metadata": {
        "id": "NQmNhiFnHOO0"
      },
      "execution_count": null,
      "outputs": []
    }
  ]
}