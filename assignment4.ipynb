{
  "nbformat": 4,
  "nbformat_minor": 0,
  "metadata": {
    "colab": {
      "provenance": []
    },
    "kernelspec": {
      "name": "python3",
      "display_name": "Python 3"
    },
    "language_info": {
      "name": "python"
    }
  },
  "cells": [
    {
      "cell_type": "code",
      "execution_count": null,
      "metadata": {
        "id": "tHtwK0CIDkgk"
      },
      "outputs": [],
      "source": [
        "import random\n",
        "\n",
        "def read_text(filename):\n",
        "    \"\"\"Reads text from a file and returns it as a single string.\"\"\"\n",
        "    with open(filename, 'r', encoding='utf-8') as file:\n",
        "        return file.read()\n",
        "\n",
        "def build_markov_chain(text, chain_length):\n",
        "    \"\"\"Builds a Markov chain from the input text.\"\"\"\n",
        "    words = text.split()\n",
        "    chain = {}\n",
        "    for i in range(len(words) - chain_length):\n",
        "        key = tuple(words[i:i + chain_length])\n",
        "        value = words[i + chain_length]\n",
        "        if key in chain:\n",
        "            chain[key].append(value)\n",
        "        else:\n",
        "            chain[key] = [value]\n",
        "    return chain\n",
        "\n",
        "def generate(filename: str, start_words: list[str], chain_length: int, num_generated: int) -> str:\n",
        "    \"\"\"Generates a sentence using a Markov chain based on the input text.\"\"\"\n",
        "    text = read_text(filename)\n",
        "    chain = build_markov_chain(text, chain_length)\n",
        "\n",
        "    # Check if start_words length matches chain_length\n",
        "    if len(start_words) != chain_length:\n",
        "        raise ValueError(\"Length of start_words must match chain_length\")\n",
        "\n",
        "    # Initialize the generated sentence with start_words\n",
        "    current_words = tuple(start_words)\n",
        "    generated_sentence = list(current_words)\n",
        "\n",
        "    # Generate the rest of the sentence\n",
        "    for _ in range(num_generated):\n",
        "        if current_words not in chain:\n",
        "            break\n",
        "        next_word = random.choice(chain[current_words])\n",
        "        generated_sentence.append(next_word)\n",
        "        current_words = tuple(generated_sentence[-chain_length:])\n",
        "\n",
        "    return ' '.join(generated_sentence)\n",
        "\n"
      ]
    },
    {
      "cell_type": "code",
      "source": [
        "# Test case 1: Basic test with small chain length and number of generated words\n",
        "filename = \"example.txt\"\n",
        "start_words = [\"I\", \"am\"]\n",
        "chain_length = 1\n",
        "num_generated = 5\n",
        "print(generate(filename, start_words, chain_length, num_generated))\n",
        "# Expected output: A sentence generated based on the text in \"example.txt\" starting with \"I am\" and consisting of 5 words.\n",
        "\n",
        "# Test case 2: Test with larger chain length and number of generated words\n",
        "filename = \"example.txt\"\n",
        "start_words = [\"I\", \"am\", \"not\"]\n",
        "chain_length = 2\n",
        "num_generated = 10\n",
        "print(generate(filename, start_words, chain_length, num_generated))\n",
        "# Expected output: A sentence generated based on the text in \"example.txt\" starting with \"I am not\" and consisting of 10 words.\n",
        "\n",
        "# Test case 3: Test with non-existent start words\n",
        "filename = \"example.txt\"\n",
        "start_words = [\"This\", \"does\", \"not\", \"exist\"]\n",
        "chain_length = 2\n",
        "num_generated = 5\n",
        "print(generate(filename, start_words, chain_length, num_generated))\n",
        "# Expected output: Should raise a ValueError because the length of start_words does not match chain_length.\n",
        "\n",
        "# Test case 4: Test with a large number of generated words\n",
        "filename = \"example.txt\"\n",
        "start_words = [\"I\", \"am\"]\n",
        "chain_length = 2\n",
        "num_generated = 100\n",
        "print(generate(filename, start_words, chain_length, num_generated))\n",
        "# Expected output: A longer sentence generated based on the text in \"example.txt\" starting with \"I am\" and consisting of 100 words.\n"
      ],
      "metadata": {
        "id": "sT_QiGFgDnR4",
        "colab": {
          "base_uri": "https://localhost:8080/",
          "height": 349
        },
        "outputId": "824e6be9-4873-46fb-a3a0-b6c08a35e1e9"
      },
      "execution_count": null,
      "outputs": [
        {
          "output_type": "error",
          "ename": "ValueError",
          "evalue": "Length of start_words must match chain_length",
          "traceback": [
            "\u001b[0;31m---------------------------------------------------------------------------\u001b[0m",
            "\u001b[0;31mValueError\u001b[0m                                Traceback (most recent call last)",
            "\u001b[0;32m<ipython-input-5-265683734739>\u001b[0m in \u001b[0;36m<cell line: 6>\u001b[0;34m()\u001b[0m\n\u001b[1;32m      4\u001b[0m \u001b[0mchain_length\u001b[0m \u001b[0;34m=\u001b[0m \u001b[0;36m1\u001b[0m\u001b[0;34m\u001b[0m\u001b[0;34m\u001b[0m\u001b[0m\n\u001b[1;32m      5\u001b[0m \u001b[0mnum_generated\u001b[0m \u001b[0;34m=\u001b[0m \u001b[0;36m5\u001b[0m\u001b[0;34m\u001b[0m\u001b[0;34m\u001b[0m\u001b[0m\n\u001b[0;32m----> 6\u001b[0;31m \u001b[0mprint\u001b[0m\u001b[0;34m(\u001b[0m\u001b[0mgenerate\u001b[0m\u001b[0;34m(\u001b[0m\u001b[0mfilename\u001b[0m\u001b[0;34m,\u001b[0m \u001b[0mstart_words\u001b[0m\u001b[0;34m,\u001b[0m \u001b[0mchain_length\u001b[0m\u001b[0;34m,\u001b[0m \u001b[0mnum_generated\u001b[0m\u001b[0;34m)\u001b[0m\u001b[0;34m)\u001b[0m\u001b[0;34m\u001b[0m\u001b[0;34m\u001b[0m\u001b[0m\n\u001b[0m\u001b[1;32m      7\u001b[0m \u001b[0;31m# Expected output: A sentence generated based on the text in \"example.txt\" starting with \"I am\" and consisting of 5 words.\u001b[0m\u001b[0;34m\u001b[0m\u001b[0;34m\u001b[0m\u001b[0m\n\u001b[1;32m      8\u001b[0m \u001b[0;34m\u001b[0m\u001b[0m\n",
            "\u001b[0;32m<ipython-input-4-a2874d04eb43>\u001b[0m in \u001b[0;36mgenerate\u001b[0;34m(filename, start_words, chain_length, num_generated)\u001b[0m\n\u001b[1;32m     26\u001b[0m     \u001b[0;31m# Check if start_words length matches chain_length\u001b[0m\u001b[0;34m\u001b[0m\u001b[0;34m\u001b[0m\u001b[0m\n\u001b[1;32m     27\u001b[0m     \u001b[0;32mif\u001b[0m \u001b[0mlen\u001b[0m\u001b[0;34m(\u001b[0m\u001b[0mstart_words\u001b[0m\u001b[0;34m)\u001b[0m \u001b[0;34m!=\u001b[0m \u001b[0mchain_length\u001b[0m\u001b[0;34m:\u001b[0m\u001b[0;34m\u001b[0m\u001b[0;34m\u001b[0m\u001b[0m\n\u001b[0;32m---> 28\u001b[0;31m         \u001b[0;32mraise\u001b[0m \u001b[0mValueError\u001b[0m\u001b[0;34m(\u001b[0m\u001b[0;34m\"Length of start_words must match chain_length\"\u001b[0m\u001b[0;34m)\u001b[0m\u001b[0;34m\u001b[0m\u001b[0;34m\u001b[0m\u001b[0m\n\u001b[0m\u001b[1;32m     29\u001b[0m \u001b[0;34m\u001b[0m\u001b[0m\n\u001b[1;32m     30\u001b[0m     \u001b[0;31m# Initialize the generated sentence with start_words\u001b[0m\u001b[0;34m\u001b[0m\u001b[0;34m\u001b[0m\u001b[0m\n",
            "\u001b[0;31mValueError\u001b[0m: Length of start_words must match chain_length"
          ]
        }
      ]
    },
    {
      "cell_type": "code",
      "source": [
        "# Test case 1: Basic test with small chain length and number of generated words\n",
        "filename = \"example.txt\"\n",
        "start_words = [\"I\"]\n",
        "chain_length = 1\n",
        "num_generated = 5\n",
        "print(generate(filename, start_words, chain_length, num_generated))\n",
        "\n",
        "# Test case 2: Test with larger chain length and number of generated words\n",
        "filename = \"example.txt\"\n",
        "start_words = [\"I\", \"am\"]\n",
        "chain_length = 2\n",
        "num_generated = 10\n",
        "print(generate(filename, start_words, chain_length, num_generated))\n",
        "\n",
        "# Test case 3: Test with non-existent start words\n",
        "filename = \"example.txt\"\n",
        "start_words = [\"This\", \"does\"]\n",
        "chain_length = 2\n",
        "num_generated = 5\n",
        "print(generate(filename, start_words, chain_length, num_generated))\n",
        "\n",
        "# Test case 4: Test with a large number of generated words\n",
        "filename = \"example.txt\"\n",
        "start_words = [\"I\", \"am\"]\n",
        "chain_length = 2\n",
        "num_generated = 100\n",
        "print(generate(filename, start_words, chain_length, num_generated))\n"
      ],
      "metadata": {
        "colab": {
          "base_uri": "https://localhost:8080/"
        },
        "id": "h2H36nvHFHbS",
        "outputId": "f6f72427-e4fc-4f42-d9fc-f5a9b2fa90b1"
      },
      "execution_count": null,
      "outputs": [
        {
          "output_type": "stream",
          "name": "stdout",
          "text": [
            "I am the walrus, coo coo\n",
            "I am the walrus, coo coo cachoo The quick brown fox jumps\n",
            "This does\n",
            "I am the walrus, coo coo cachoo The quick brown fox jumps over the lazy dog To be or not to be, that is the question Lorem ipsum dolor sit amet, consectetur adipiscing elit\n"
          ]
        }
      ]
    },
    {
      "cell_type": "code",
      "source": [
        "# Test case 5: Test with longer chain length and number of generated words\n",
        "filename = \"example1.txt\"\n",
        "start_words = [\"I\", \"am\", \"the\"]\n",
        "chain_length = 3\n",
        "num_generated = 15\n",
        "output_5 = generate(filename, start_words, chain_length, num_generated)\n",
        "print(output_5)\n",
        "\n",
        "# Test case 6: Test with non-existent start words\n",
        "filename = \"example1.txt\"\n",
        "start_words = [\"These\", \"words\", \"do\", \"not\", \"exist\"]\n",
        "chain_length = 3\n",
        "num_generated = 10\n",
        "output_6 = generate(filename, start_words, chain_length, num_generated)\n",
        "print(output_6)\n",
        "\n",
        "# Test case 7: Test with a large number of generated words\n",
        "filename = \"example1.txt\"\n",
        "start_words = [\"The\", \"quick\", \"brown\"]\n",
        "chain_length = 3\n",
        "num_generated = 50\n",
        "output_7 = generate(filename, start_words, chain_length, num_generated)\n",
        "print(output_7)\n"
      ],
      "metadata": {
        "colab": {
          "base_uri": "https://localhost:8080/",
          "height": 349
        },
        "id": "zM3dSwSiFVxC",
        "outputId": "77f6f4ca-5bbb-4ab2-8d3b-e6141ed04910"
      },
      "execution_count": null,
      "outputs": [
        {
          "output_type": "stream",
          "name": "stdout",
          "text": [
            "I am the walrus, coo coo cachoo This is a test sentence for generating more content An example\n"
          ]
        },
        {
          "output_type": "error",
          "ename": "ValueError",
          "evalue": "Length of start_words must match chain_length",
          "traceback": [
            "\u001b[0;31m---------------------------------------------------------------------------\u001b[0m",
            "\u001b[0;31mValueError\u001b[0m                                Traceback (most recent call last)",
            "\u001b[0;32m<ipython-input-7-d47089ac111d>\u001b[0m in \u001b[0;36m<cell line: 14>\u001b[0;34m()\u001b[0m\n\u001b[1;32m     12\u001b[0m \u001b[0mchain_length\u001b[0m \u001b[0;34m=\u001b[0m \u001b[0;36m3\u001b[0m\u001b[0;34m\u001b[0m\u001b[0;34m\u001b[0m\u001b[0m\n\u001b[1;32m     13\u001b[0m \u001b[0mnum_generated\u001b[0m \u001b[0;34m=\u001b[0m \u001b[0;36m10\u001b[0m\u001b[0;34m\u001b[0m\u001b[0;34m\u001b[0m\u001b[0m\n\u001b[0;32m---> 14\u001b[0;31m \u001b[0moutput_6\u001b[0m \u001b[0;34m=\u001b[0m \u001b[0mgenerate\u001b[0m\u001b[0;34m(\u001b[0m\u001b[0mfilename\u001b[0m\u001b[0;34m,\u001b[0m \u001b[0mstart_words\u001b[0m\u001b[0;34m,\u001b[0m \u001b[0mchain_length\u001b[0m\u001b[0;34m,\u001b[0m \u001b[0mnum_generated\u001b[0m\u001b[0;34m)\u001b[0m\u001b[0;34m\u001b[0m\u001b[0;34m\u001b[0m\u001b[0m\n\u001b[0m\u001b[1;32m     15\u001b[0m \u001b[0mprint\u001b[0m\u001b[0;34m(\u001b[0m\u001b[0moutput_6\u001b[0m\u001b[0;34m)\u001b[0m\u001b[0;34m\u001b[0m\u001b[0;34m\u001b[0m\u001b[0m\n\u001b[1;32m     16\u001b[0m \u001b[0;34m\u001b[0m\u001b[0m\n",
            "\u001b[0;32m<ipython-input-4-a2874d04eb43>\u001b[0m in \u001b[0;36mgenerate\u001b[0;34m(filename, start_words, chain_length, num_generated)\u001b[0m\n\u001b[1;32m     26\u001b[0m     \u001b[0;31m# Check if start_words length matches chain_length\u001b[0m\u001b[0;34m\u001b[0m\u001b[0;34m\u001b[0m\u001b[0m\n\u001b[1;32m     27\u001b[0m     \u001b[0;32mif\u001b[0m \u001b[0mlen\u001b[0m\u001b[0;34m(\u001b[0m\u001b[0mstart_words\u001b[0m\u001b[0;34m)\u001b[0m \u001b[0;34m!=\u001b[0m \u001b[0mchain_length\u001b[0m\u001b[0;34m:\u001b[0m\u001b[0;34m\u001b[0m\u001b[0;34m\u001b[0m\u001b[0m\n\u001b[0;32m---> 28\u001b[0;31m         \u001b[0;32mraise\u001b[0m \u001b[0mValueError\u001b[0m\u001b[0;34m(\u001b[0m\u001b[0;34m\"Length of start_words must match chain_length\"\u001b[0m\u001b[0;34m)\u001b[0m\u001b[0;34m\u001b[0m\u001b[0;34m\u001b[0m\u001b[0m\n\u001b[0m\u001b[1;32m     29\u001b[0m \u001b[0;34m\u001b[0m\u001b[0m\n\u001b[1;32m     30\u001b[0m     \u001b[0;31m# Initialize the generated sentence with start_words\u001b[0m\u001b[0;34m\u001b[0m\u001b[0;34m\u001b[0m\u001b[0m\n",
            "\u001b[0;31mValueError\u001b[0m: Length of start_words must match chain_length"
          ]
        }
      ]
    },
    {
      "cell_type": "code",
      "source": [
        "# Test case 5: Test with longer chain length and number of generated words\n",
        "filename = \"example1.txt\"\n",
        "start_words = [\"I\", \"am\", \"the\"]\n",
        "chain_length = 3\n",
        "num_generated = 15\n",
        "output_5 = generate(filename, start_words, chain_length, num_generated)\n",
        "print(output_5)\n",
        "\n",
        "# Test case 6: Test with non-existent start words\n",
        "filename = \"example1.txt\"\n",
        "start_words = [\"These\", \"words\", \"do\"]\n",
        "chain_length = 3\n",
        "num_generated = 10\n",
        "output_6 = generate(filename, start_words, chain_length, num_generated)\n",
        "print(output_6)\n",
        "\n",
        "# Test case 7: Test with a large number of generated words\n",
        "filename = \"example1.txt\"\n",
        "start_words = [\"The\", \"quick\", \"brown\"]\n",
        "chain_length = 3\n",
        "num_generated = 50\n",
        "output_7 = generate(filename, start_words, chain_length, num_generated)\n",
        "print(output_7)\n"
      ],
      "metadata": {
        "colab": {
          "base_uri": "https://localhost:8080/"
        },
        "id": "3SftABvnHJdf",
        "outputId": "6f53ddd6-88a3-4b80-cace-fdbf781aad89"
      },
      "execution_count": null,
      "outputs": [
        {
          "output_type": "stream",
          "name": "stdout",
          "text": [
            "I am the walrus, coo coo cachoo This is a test sentence for generating more content An example\n",
            "These words do\n",
            "The quick brown fox jumps over the lazy dog To be or not to be, that is the question Lorem ipsum dolor sit amet, consectetur adipiscing elit I am the walrus, coo coo cachoo This is a test sentence for generating more content An example of additional text for testing the Markov chain\n"
          ]
        }
      ]
    },
    {
      "cell_type": "code",
      "source": [],
      "metadata": {
        "id": "tm0wPbChHQmo"
      },
      "execution_count": null,
      "outputs": []
    }
  ]
}